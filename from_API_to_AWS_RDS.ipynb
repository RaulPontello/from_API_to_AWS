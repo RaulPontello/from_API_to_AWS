{
  "nbformat": 4,
  "nbformat_minor": 0,
  "metadata": {
    "colab": {
      "provenance": []
    },
    "kernelspec": {
      "name": "python3",
      "display_name": "Python 3"
    },
    "language_info": {
      "name": "python"
    }
  },
  "cells": [
    {
      "cell_type": "markdown",
      "source": [
        "# The goal of this project is to extact data from an API and store it in AWS RDS"
      ],
      "metadata": {
        "id": "lSuJanacT5uw"
      }
    },
    {
      "cell_type": "markdown",
      "source": [
        "# Import libraries"
      ],
      "metadata": {
        "id": "Rm_7fHVdmctZ"
      }
    },
    {
      "cell_type": "code",
      "source": [
        "pip install pymysql"
      ],
      "metadata": {
        "colab": {
          "base_uri": "https://localhost:8080/"
        },
        "id": "72v61fuN2YNw",
        "outputId": "caaa6bcf-326b-4bc9-e0d1-80dd8cef5334"
      },
      "execution_count": 2,
      "outputs": [
        {
          "output_type": "stream",
          "name": "stdout",
          "text": [
            "Looking in indexes: https://pypi.org/simple, https://us-python.pkg.dev/colab-wheels/public/simple/\n",
            "Collecting pymysql\n",
            "  Downloading PyMySQL-1.0.2-py3-none-any.whl (43 kB)\n",
            "\u001b[2K     \u001b[90m━━━━━━━━━━━━━━━━━━━━━━━━━━━━━━━━━━━━━━━━\u001b[0m \u001b[32m43.8/43.8 KB\u001b[0m \u001b[31m3.5 MB/s\u001b[0m eta \u001b[36m0:00:00\u001b[0m\n",
            "\u001b[?25hInstalling collected packages: pymysql\n",
            "Successfully installed pymysql-1.0.2\n"
          ]
        }
      ]
    },
    {
      "cell_type": "code",
      "source": [
        "import json\n",
        "import pandas as pd\n",
        "import pymysql\n",
        "import datetime\n",
        "\n",
        "from requests import Request, Session\n",
        "from requests.exceptions import ConnectionError, Timeout, TooManyRedirects\n",
        "from sqlalchemy import create_engine\n",
        "from sqlalchemy.orm import sessionmaker"
      ],
      "metadata": {
        "id": "YS6Fu9hXmfNV"
      },
      "execution_count": 3,
      "outputs": []
    },
    {
      "cell_type": "markdown",
      "source": [
        "# Extarct all data from API in json format"
      ],
      "metadata": {
        "id": "Vfg8oRcjtMJ-"
      }
    },
    {
      "cell_type": "code",
      "execution_count": 4,
      "metadata": {
        "colab": {
          "base_uri": "https://localhost:8080/"
        },
        "id": "pzp0GtHol7Ra",
        "outputId": "b47a72eb-9805-47e1-a94e-508ca7003fc9"
      },
      "outputs": [
        {
          "output_type": "stream",
          "name": "stderr",
          "text": [
            "IOPub data rate exceeded.\n",
            "The notebook server will temporarily stop sending output\n",
            "to the client in order to avoid crashing it.\n",
            "To change this limit, set the config variable\n",
            "`--NotebookApp.iopub_data_rate_limit`.\n",
            "\n",
            "Current values:\n",
            "NotebookApp.iopub_data_rate_limit=1000000.0 (bytes/sec)\n",
            "NotebookApp.rate_limit_window=3.0 (secs)\n",
            "\n"
          ]
        }
      ],
      "source": [
        "# Documentation: https://coinmarketcap.com/api/documentation/v1/#operation/getV1CryptocurrencyMap\n",
        "\n",
        "url = 'https://pro-api.coinmarketcap.com/v1/cryptocurrency/listings/latest'\n",
        "api_key = '83f659b5-cb23-45e9-87f2-733a317f404d'\n",
        "\n",
        "parameters = {\n",
        "  'start':'1',\n",
        "  'limit':'5000',\n",
        "}\n",
        "headers = {\n",
        "  'Accepts': 'application/json',\n",
        "  'X-CMC_PRO_API_KEY': api_key,\n",
        "}\n",
        "\n",
        "session = Session()\n",
        "session.headers.update(headers)\n",
        "\n",
        "try:\n",
        "  response = session.get(url, params=parameters)\n",
        "  data = json.loads(response.text)\n",
        "  print(data)\n",
        "except (ConnectionError, Timeout, TooManyRedirects) as e:\n",
        "  print(e)"
      ]
    },
    {
      "cell_type": "markdown",
      "source": [
        "# Show data"
      ],
      "metadata": {
        "id": "BN3uCYMD5CNd"
      }
    },
    {
      "cell_type": "code",
      "source": [
        "data['data'][0:2]"
      ],
      "metadata": {
        "colab": {
          "base_uri": "https://localhost:8080/"
        },
        "id": "yPYmSwKd5CY8",
        "outputId": "05d5660f-80aa-4d59-e468-57ab517a0407"
      },
      "execution_count": 5,
      "outputs": [
        {
          "output_type": "execute_result",
          "data": {
            "text/plain": [
              "[{'id': 1,\n",
              "  'name': 'Bitcoin',\n",
              "  'symbol': 'BTC',\n",
              "  'slug': 'bitcoin',\n",
              "  'num_market_pairs': 9982,\n",
              "  'date_added': '2013-04-28T00:00:00.000Z',\n",
              "  'tags': ['mineable',\n",
              "   'pow',\n",
              "   'sha-256',\n",
              "   'store-of-value',\n",
              "   'state-channel',\n",
              "   'coinbase-ventures-portfolio',\n",
              "   'three-arrows-capital-portfolio',\n",
              "   'polychain-capital-portfolio',\n",
              "   'binance-labs-portfolio',\n",
              "   'blockchain-capital-portfolio',\n",
              "   'boostvc-portfolio',\n",
              "   'cms-holdings-portfolio',\n",
              "   'dcg-portfolio',\n",
              "   'dragonfly-capital-portfolio',\n",
              "   'electric-capital-portfolio',\n",
              "   'fabric-ventures-portfolio',\n",
              "   'framework-ventures-portfolio',\n",
              "   'galaxy-digital-portfolio',\n",
              "   'huobi-capital-portfolio',\n",
              "   'alameda-research-portfolio',\n",
              "   'a16z-portfolio',\n",
              "   '1confirmation-portfolio',\n",
              "   'winklevoss-capital-portfolio',\n",
              "   'usv-portfolio',\n",
              "   'placeholder-ventures-portfolio',\n",
              "   'pantera-capital-portfolio',\n",
              "   'multicoin-capital-portfolio',\n",
              "   'paradigm-portfolio'],\n",
              "  'max_supply': 21000000,\n",
              "  'circulating_supply': 19290731,\n",
              "  'total_supply': 19290731,\n",
              "  'platform': None,\n",
              "  'cmc_rank': 1,\n",
              "  'self_reported_circulating_supply': None,\n",
              "  'self_reported_market_cap': None,\n",
              "  'tvl_ratio': None,\n",
              "  'last_updated': '2023-02-14T14:30:00.000Z',\n",
              "  'quote': {'USD': {'price': 21658.804259455705,\n",
              "    'volume_24h': 22848303494.834103,\n",
              "    'volume_change_24h': 1.2148,\n",
              "    'percent_change_1h': -0.936885,\n",
              "    'percent_change_24h': 0.26682483,\n",
              "    'percent_change_7d': -5.83116829,\n",
              "    'percent_change_30d': 4.50826554,\n",
              "    'percent_change_60d': 27.24384463,\n",
              "    'percent_change_90d': 31.09833945,\n",
              "    'market_cap': 417814166750.8142,\n",
              "    'market_cap_dominance': 41.5805,\n",
              "    'fully_diluted_market_cap': 454834889448.57,\n",
              "    'tvl': None,\n",
              "    'last_updated': '2023-02-14T14:30:00.000Z'}}},\n",
              " {'id': 1027,\n",
              "  'name': 'Ethereum',\n",
              "  'symbol': 'ETH',\n",
              "  'slug': 'ethereum',\n",
              "  'num_market_pairs': 6460,\n",
              "  'date_added': '2015-08-07T00:00:00.000Z',\n",
              "  'tags': ['pos',\n",
              "   'smart-contracts',\n",
              "   'ethereum-ecosystem',\n",
              "   'coinbase-ventures-portfolio',\n",
              "   'three-arrows-capital-portfolio',\n",
              "   'polychain-capital-portfolio',\n",
              "   'binance-labs-portfolio',\n",
              "   'blockchain-capital-portfolio',\n",
              "   'boostvc-portfolio',\n",
              "   'cms-holdings-portfolio',\n",
              "   'dcg-portfolio',\n",
              "   'dragonfly-capital-portfolio',\n",
              "   'electric-capital-portfolio',\n",
              "   'fabric-ventures-portfolio',\n",
              "   'framework-ventures-portfolio',\n",
              "   'hashkey-capital-portfolio',\n",
              "   'kenetic-capital-portfolio',\n",
              "   'huobi-capital-portfolio',\n",
              "   'alameda-research-portfolio',\n",
              "   'a16z-portfolio',\n",
              "   '1confirmation-portfolio',\n",
              "   'winklevoss-capital-portfolio',\n",
              "   'usv-portfolio',\n",
              "   'placeholder-ventures-portfolio',\n",
              "   'pantera-capital-portfolio',\n",
              "   'multicoin-capital-portfolio',\n",
              "   'paradigm-portfolio',\n",
              "   'injective-ecosystem'],\n",
              "  'max_supply': None,\n",
              "  'circulating_supply': 122373866.2178,\n",
              "  'total_supply': 122373866.2178,\n",
              "  'platform': None,\n",
              "  'cmc_rank': 2,\n",
              "  'self_reported_circulating_supply': None,\n",
              "  'self_reported_market_cap': None,\n",
              "  'tvl_ratio': None,\n",
              "  'last_updated': '2023-02-14T14:30:00.000Z',\n",
              "  'quote': {'USD': {'price': 1505.0390731584112,\n",
              "    'volume_24h': 7954504277.375517,\n",
              "    'volume_change_24h': -9.0958,\n",
              "    'percent_change_1h': -0.7357029,\n",
              "    'percent_change_24h': 1.58416421,\n",
              "    'percent_change_7d': -8.21871775,\n",
              "    'percent_change_30d': -1.84288559,\n",
              "    'percent_change_60d': 24.11535828,\n",
              "    'percent_change_90d': 24.39335878,\n",
              "    'market_cap': 184177450191.2491,\n",
              "    'market_cap_dominance': 18.3292,\n",
              "    'fully_diluted_market_cap': 184177450191.25,\n",
              "    'tvl': None,\n",
              "    'last_updated': '2023-02-14T14:30:00.000Z'}}}]"
            ]
          },
          "metadata": {},
          "execution_count": 5
        }
      ]
    },
    {
      "cell_type": "markdown",
      "source": [
        "# Create dataframe to store all data"
      ],
      "metadata": {
        "id": "PqWAgtuutTx5"
      }
    },
    {
      "cell_type": "code",
      "source": [
        "# Create dataframe to store all data\n",
        "\n",
        "columns = ['id', 'name', 'symbol', 'last_updated', 'circulating_supply',\n",
        "          'total_supply', 'max_supply', 'price', 'volume_24h', 'percent_change_1h', 'percent_change_7d']\n",
        "\n",
        "df = pd.DataFrame(columns = columns)\n",
        "\n",
        "# Fill in df\n",
        "\n",
        "for coin in data['data']:\n",
        "    id = coin['id']\n",
        "    name = coin['name']\n",
        "    symbol = coin['symbol']\n",
        "    last_updated = coin['last_updated']\n",
        "    circulating_supply = coin['circulating_supply']\n",
        "    total_supply = coin['total_supply']\n",
        "    max_supply = coin['max_supply']\n",
        "    price = coin['quote']['USD']['price']\n",
        "    volume_24h = coin['quote']['USD']['volume_24h']\n",
        "    percent_change_1h = coin['quote']['USD']['percent_change_1h']\n",
        "    percent_change_24h = coin['quote']['USD']['percent_change_24h']\n",
        "    percent_change_7d = coin['quote']['USD']['percent_change_7d']\n",
        "\n",
        "    data_dict = {'id': id, \n",
        "                'name': name, \n",
        "                'symbol': symbol,\n",
        "                'last_updated': last_updated,\n",
        "                'circulating_supply': circulating_supply,\n",
        "                'total_supply': total_supply,\n",
        "                'max_supply': max_supply,\n",
        "                'price': price,\n",
        "                'volume_24h': volume_24h,\n",
        "                'percent_change_1h': percent_change_1h,\n",
        "                'percent_change_7d': percent_change_7d}\n",
        "\n",
        "    df = df.append(data_dict, ignore_index = True)\n",
        "  \n"
      ],
      "metadata": {
        "id": "_8l6v4bjnd87"
      },
      "execution_count": 6,
      "outputs": []
    },
    {
      "cell_type": "markdown",
      "source": [
        "# Show df"
      ],
      "metadata": {
        "id": "HWC9TexlvS96"
      }
    },
    {
      "cell_type": "code",
      "source": [
        "df.head()"
      ],
      "metadata": {
        "colab": {
          "base_uri": "https://localhost:8080/",
          "height": 206
        },
        "id": "-jpRYkirvTFE",
        "outputId": "3a29d5f4-a7fa-4ffb-d848-e37e78248846"
      },
      "execution_count": 6,
      "outputs": [
        {
          "output_type": "execute_result",
          "data": {
            "text/plain": [
              "     id      name symbol              last_updated  circulating_supply  \\\n",
              "0     1   Bitcoin    BTC  2023-02-14T11:38:00.000Z            19290518   \n",
              "1  1027  Ethereum    ETH  2023-02-14T11:38:00.000Z      122373866.2178   \n",
              "2   825    Tether   USDT  2023-02-14T11:38:00.000Z  68411642034.939713   \n",
              "3  1839       BNB    BNB  2023-02-14T11:38:00.000Z     157898631.62932   \n",
              "4  3408  USD Coin   USDC  2023-02-14T11:38:00.000Z  41043894229.094063   \n",
              "\n",
              "         total_supply max_supply         price    volume_24h  \\\n",
              "0            19290518   21000000  21824.359825  2.086635e+10   \n",
              "1      122373866.2178       None   1509.020064  6.916400e+09   \n",
              "2  73141766321.234283       None      1.000931  3.216217e+10   \n",
              "3    159979963.590429  200000000    292.698540  7.536730e+08   \n",
              "4  41043894229.094063       None      0.999906  3.801351e+09   \n",
              "\n",
              "   percent_change_1h  percent_change_7d  \n",
              "0          -0.112827          -5.051905  \n",
              "1          -0.326357          -8.176212  \n",
              "2          -0.015542           0.079888  \n",
              "3          -0.320278         -11.410475  \n",
              "4          -0.016406          -0.011452  "
            ],
            "text/html": [
              "\n",
              "  <div id=\"df-ba8659f4-9ecb-48b7-88f5-ed8198852479\">\n",
              "    <div class=\"colab-df-container\">\n",
              "      <div>\n",
              "<style scoped>\n",
              "    .dataframe tbody tr th:only-of-type {\n",
              "        vertical-align: middle;\n",
              "    }\n",
              "\n",
              "    .dataframe tbody tr th {\n",
              "        vertical-align: top;\n",
              "    }\n",
              "\n",
              "    .dataframe thead th {\n",
              "        text-align: right;\n",
              "    }\n",
              "</style>\n",
              "<table border=\"1\" class=\"dataframe\">\n",
              "  <thead>\n",
              "    <tr style=\"text-align: right;\">\n",
              "      <th></th>\n",
              "      <th>id</th>\n",
              "      <th>name</th>\n",
              "      <th>symbol</th>\n",
              "      <th>last_updated</th>\n",
              "      <th>circulating_supply</th>\n",
              "      <th>total_supply</th>\n",
              "      <th>max_supply</th>\n",
              "      <th>price</th>\n",
              "      <th>volume_24h</th>\n",
              "      <th>percent_change_1h</th>\n",
              "      <th>percent_change_7d</th>\n",
              "    </tr>\n",
              "  </thead>\n",
              "  <tbody>\n",
              "    <tr>\n",
              "      <th>0</th>\n",
              "      <td>1</td>\n",
              "      <td>Bitcoin</td>\n",
              "      <td>BTC</td>\n",
              "      <td>2023-02-14T11:38:00.000Z</td>\n",
              "      <td>19290518</td>\n",
              "      <td>19290518</td>\n",
              "      <td>21000000</td>\n",
              "      <td>21824.359825</td>\n",
              "      <td>2.086635e+10</td>\n",
              "      <td>-0.112827</td>\n",
              "      <td>-5.051905</td>\n",
              "    </tr>\n",
              "    <tr>\n",
              "      <th>1</th>\n",
              "      <td>1027</td>\n",
              "      <td>Ethereum</td>\n",
              "      <td>ETH</td>\n",
              "      <td>2023-02-14T11:38:00.000Z</td>\n",
              "      <td>122373866.2178</td>\n",
              "      <td>122373866.2178</td>\n",
              "      <td>None</td>\n",
              "      <td>1509.020064</td>\n",
              "      <td>6.916400e+09</td>\n",
              "      <td>-0.326357</td>\n",
              "      <td>-8.176212</td>\n",
              "    </tr>\n",
              "    <tr>\n",
              "      <th>2</th>\n",
              "      <td>825</td>\n",
              "      <td>Tether</td>\n",
              "      <td>USDT</td>\n",
              "      <td>2023-02-14T11:38:00.000Z</td>\n",
              "      <td>68411642034.939713</td>\n",
              "      <td>73141766321.234283</td>\n",
              "      <td>None</td>\n",
              "      <td>1.000931</td>\n",
              "      <td>3.216217e+10</td>\n",
              "      <td>-0.015542</td>\n",
              "      <td>0.079888</td>\n",
              "    </tr>\n",
              "    <tr>\n",
              "      <th>3</th>\n",
              "      <td>1839</td>\n",
              "      <td>BNB</td>\n",
              "      <td>BNB</td>\n",
              "      <td>2023-02-14T11:38:00.000Z</td>\n",
              "      <td>157898631.62932</td>\n",
              "      <td>159979963.590429</td>\n",
              "      <td>200000000</td>\n",
              "      <td>292.698540</td>\n",
              "      <td>7.536730e+08</td>\n",
              "      <td>-0.320278</td>\n",
              "      <td>-11.410475</td>\n",
              "    </tr>\n",
              "    <tr>\n",
              "      <th>4</th>\n",
              "      <td>3408</td>\n",
              "      <td>USD Coin</td>\n",
              "      <td>USDC</td>\n",
              "      <td>2023-02-14T11:38:00.000Z</td>\n",
              "      <td>41043894229.094063</td>\n",
              "      <td>41043894229.094063</td>\n",
              "      <td>None</td>\n",
              "      <td>0.999906</td>\n",
              "      <td>3.801351e+09</td>\n",
              "      <td>-0.016406</td>\n",
              "      <td>-0.011452</td>\n",
              "    </tr>\n",
              "  </tbody>\n",
              "</table>\n",
              "</div>\n",
              "      <button class=\"colab-df-convert\" onclick=\"convertToInteractive('df-ba8659f4-9ecb-48b7-88f5-ed8198852479')\"\n",
              "              title=\"Convert this dataframe to an interactive table.\"\n",
              "              style=\"display:none;\">\n",
              "        \n",
              "  <svg xmlns=\"http://www.w3.org/2000/svg\" height=\"24px\"viewBox=\"0 0 24 24\"\n",
              "       width=\"24px\">\n",
              "    <path d=\"M0 0h24v24H0V0z\" fill=\"none\"/>\n",
              "    <path d=\"M18.56 5.44l.94 2.06.94-2.06 2.06-.94-2.06-.94-.94-2.06-.94 2.06-2.06.94zm-11 1L8.5 8.5l.94-2.06 2.06-.94-2.06-.94L8.5 2.5l-.94 2.06-2.06.94zm10 10l.94 2.06.94-2.06 2.06-.94-2.06-.94-.94-2.06-.94 2.06-2.06.94z\"/><path d=\"M17.41 7.96l-1.37-1.37c-.4-.4-.92-.59-1.43-.59-.52 0-1.04.2-1.43.59L10.3 9.45l-7.72 7.72c-.78.78-.78 2.05 0 2.83L4 21.41c.39.39.9.59 1.41.59.51 0 1.02-.2 1.41-.59l7.78-7.78 2.81-2.81c.8-.78.8-2.07 0-2.86zM5.41 20L4 18.59l7.72-7.72 1.47 1.35L5.41 20z\"/>\n",
              "  </svg>\n",
              "      </button>\n",
              "      \n",
              "  <style>\n",
              "    .colab-df-container {\n",
              "      display:flex;\n",
              "      flex-wrap:wrap;\n",
              "      gap: 12px;\n",
              "    }\n",
              "\n",
              "    .colab-df-convert {\n",
              "      background-color: #E8F0FE;\n",
              "      border: none;\n",
              "      border-radius: 50%;\n",
              "      cursor: pointer;\n",
              "      display: none;\n",
              "      fill: #1967D2;\n",
              "      height: 32px;\n",
              "      padding: 0 0 0 0;\n",
              "      width: 32px;\n",
              "    }\n",
              "\n",
              "    .colab-df-convert:hover {\n",
              "      background-color: #E2EBFA;\n",
              "      box-shadow: 0px 1px 2px rgba(60, 64, 67, 0.3), 0px 1px 3px 1px rgba(60, 64, 67, 0.15);\n",
              "      fill: #174EA6;\n",
              "    }\n",
              "\n",
              "    [theme=dark] .colab-df-convert {\n",
              "      background-color: #3B4455;\n",
              "      fill: #D2E3FC;\n",
              "    }\n",
              "\n",
              "    [theme=dark] .colab-df-convert:hover {\n",
              "      background-color: #434B5C;\n",
              "      box-shadow: 0px 1px 3px 1px rgba(0, 0, 0, 0.15);\n",
              "      filter: drop-shadow(0px 1px 2px rgba(0, 0, 0, 0.3));\n",
              "      fill: #FFFFFF;\n",
              "    }\n",
              "  </style>\n",
              "\n",
              "      <script>\n",
              "        const buttonEl =\n",
              "          document.querySelector('#df-ba8659f4-9ecb-48b7-88f5-ed8198852479 button.colab-df-convert');\n",
              "        buttonEl.style.display =\n",
              "          google.colab.kernel.accessAllowed ? 'block' : 'none';\n",
              "\n",
              "        async function convertToInteractive(key) {\n",
              "          const element = document.querySelector('#df-ba8659f4-9ecb-48b7-88f5-ed8198852479');\n",
              "          const dataTable =\n",
              "            await google.colab.kernel.invokeFunction('convertToInteractive',\n",
              "                                                     [key], {});\n",
              "          if (!dataTable) return;\n",
              "\n",
              "          const docLinkHtml = 'Like what you see? Visit the ' +\n",
              "            '<a target=\"_blank\" href=https://colab.research.google.com/notebooks/data_table.ipynb>data table notebook</a>'\n",
              "            + ' to learn more about interactive tables.';\n",
              "          element.innerHTML = '';\n",
              "          dataTable['output_type'] = 'display_data';\n",
              "          await google.colab.output.renderOutput(dataTable, element);\n",
              "          const docLink = document.createElement('div');\n",
              "          docLink.innerHTML = docLinkHtml;\n",
              "          element.appendChild(docLink);\n",
              "        }\n",
              "      </script>\n",
              "    </div>\n",
              "  </div>\n",
              "  "
            ]
          },
          "metadata": {},
          "execution_count": 6
        }
      ]
    },
    {
      "cell_type": "code",
      "source": [
        "df.columns"
      ],
      "metadata": {
        "colab": {
          "base_uri": "https://localhost:8080/"
        },
        "id": "HO6bYZ_p-6Pa",
        "outputId": "5d2128c4-2650-4423-d539-f2483cd5122d"
      },
      "execution_count": null,
      "outputs": [
        {
          "output_type": "execute_result",
          "data": {
            "text/plain": [
              "Index(['id', 'name', 'symbol', 'last_updated', 'circulating_supply',\n",
              "       'total_supply', 'max_supply', 'price', 'volume_24h',\n",
              "       'percent_change_1h', 'percent_change_7d'],\n",
              "      dtype='object')"
            ]
          },
          "metadata": {},
          "execution_count": 50
        }
      ]
    },
    {
      "cell_type": "markdown",
      "source": [
        "# Check data quality of df"
      ],
      "metadata": {
        "id": "NwpaW4MaoFfn"
      }
    },
    {
      "cell_type": "code",
      "source": [
        "def check_if_valid_data(df: pd.DataFrame) -> bool:\n",
        "  '''\n",
        "    1) Definition: Function used to check data quality of df\n",
        "    \n",
        "    2) Input:\n",
        "            df: dataframe whose columns we'll check (type = pd.Dataframe)\n",
        "\n",
        "    3) Return: \n",
        "            True = Data Quality approved\n",
        "            False = Data Quality reproved\n",
        "    '''\n",
        "    \n",
        "  # Check if dataframe is empty\n",
        "\n",
        "  if df.empty:\n",
        "      print(\"\\nDataframe empty. Finishing execution\")\n",
        "      return False \n",
        "\n",
        "  # Check for nulls in symbol column\n",
        "\n",
        "  if df.symbol.empty:\n",
        "      raise Exception(\"\\nSymbol is Null or the value is empty\")\n",
        "\n",
        "    # Check for nulls in price column\n",
        "\n",
        "  if df.price.empty:\n",
        "      raise Exception(\"\\nPrice is Null or the value is empty\")\n",
        "\n",
        "  # Check for nulls in data_added column\n",
        "\n",
        "  if df.data_added.empty:\n",
        "      raise Exception(\"\\nData is Null or the value is empty\")\n",
        "\n",
        "  return True"
      ],
      "metadata": {
        "id": "DkC2E5MUoFoN"
      },
      "execution_count": 7,
      "outputs": []
    },
    {
      "cell_type": "code",
      "source": [
        "check_if_valid_data(df)"
      ],
      "metadata": {
        "colab": {
          "base_uri": "https://localhost:8080/"
        },
        "id": "PjGP1KCM06iv",
        "outputId": "8d8ff145-723b-4516-d535-8a70df893750"
      },
      "execution_count": null,
      "outputs": [
        {
          "output_type": "execute_result",
          "data": {
            "text/plain": [
              "True"
            ]
          },
          "metadata": {},
          "execution_count": 5
        }
      ]
    },
    {
      "cell_type": "markdown",
      "source": [
        "# Load data to AWS RDS"
      ],
      "metadata": {
        "id": "J-lO2epChjLs"
      }
    },
    {
      "cell_type": "code",
      "source": [
        "# Create connection to AWS database\n",
        "\n",
        "host = 'crypto.csyqer7pwgvm.us-east-1.rds.amazonaws.com'\n",
        "port = 3306\n",
        "user = 'admin'\n",
        "password = 'stackdataengineer'\n",
        "\n",
        "connection = pymysql.connect(host = host,\n",
        "                             port = port,\n",
        "                             user = user,\n",
        "                             passwd = password)\n",
        " \n",
        "cursor = connection.cursor()"
      ],
      "metadata": {
        "id": "bXiJF7Zt2vc0"
      },
      "execution_count": 8,
      "outputs": []
    },
    {
      "cell_type": "code",
      "source": [
        "# Create data base\n",
        "# In AWS, we create an AWS RDS data base instance\n",
        "\n",
        "query = '''create database crypto_data_base'''\n",
        "cursor.execute(query)\n",
        "cursor.connection.commit()"
      ],
      "metadata": {
        "id": "v87AzS0O-HZ6"
      },
      "execution_count": null,
      "outputs": []
    },
    {
      "cell_type": "code",
      "source": [
        "# Connect to data base\n",
        "\n",
        "query = '''use crypto_data_base'''\n",
        "cursor.execute(query)\n",
        "\n",
        "# Create table\n",
        "\n",
        "query = '''create table crypto_table (\n",
        "              id int, \n",
        "              name varchar(50), \n",
        "              symbol varchar(50), \n",
        "              last_updated date,\n",
        "              circulating_supply float, \n",
        "              total_supply float, \n",
        "              max_supply float, \n",
        "              price float,\n",
        "              volume_24h float, \n",
        "              percent_change_1h float, \n",
        "              percent_change_7d float \n",
        "              )\n",
        "              '''\n",
        "\n",
        "cursor.execute(query)"
      ],
      "metadata": {
        "colab": {
          "base_uri": "https://localhost:8080/"
        },
        "id": "srK21Pu4K7uE",
        "outputId": "1808655b-aa26-4072-ee32-e9351b1c5603"
      },
      "execution_count": null,
      "outputs": [
        {
          "output_type": "execute_result",
          "data": {
            "text/plain": [
              "0"
            ]
          },
          "metadata": {},
          "execution_count": 101
        }
      ]
    },
    {
      "cell_type": "code",
      "source": [
        "# Connect to data base\n",
        "\n",
        "query = '''use crypto_data_base'''\n",
        "cursor.execute(query)\n",
        "\n",
        "# Show tables\n",
        "\n",
        "query = '''show tables'''\n",
        "cursor.execute(query)\n",
        "cursor.fetchall()"
      ],
      "metadata": {
        "colab": {
          "base_uri": "https://localhost:8080/"
        },
        "id": "rWsbpuTb--J-",
        "outputId": "1a3c48b8-7431-44e2-ed4c-4c7d08adc3eb"
      },
      "execution_count": 10,
      "outputs": [
        {
          "output_type": "execute_result",
          "data": {
            "text/plain": [
              "(('crypto_table',),)"
            ]
          },
          "metadata": {},
          "execution_count": 10
        }
      ]
    },
    {
      "cell_type": "code",
      "source": [
        "# check data types from crypto_table\n",
        "\n",
        "query = query = '''SHOW FIELDS FROM crypto_table FROM crypto_data_base'''\n",
        "\n",
        "cursor.execute(query)\n",
        "cursor.fetchall()"
      ],
      "metadata": {
        "colab": {
          "base_uri": "https://localhost:8080/"
        },
        "id": "N1U3KvoaO3jl",
        "outputId": "5886a1d2-d22c-4fbd-da2d-bb72a5a40701"
      },
      "execution_count": null,
      "outputs": [
        {
          "output_type": "execute_result",
          "data": {
            "text/plain": [
              "(('id', 'int', 'NO', 'PRI', None, ''),\n",
              " ('name', 'varchar(50)', 'YES', '', None, ''),\n",
              " ('symbol', 'varchar(50)', 'YES', '', None, ''),\n",
              " ('last_updated', 'date', 'YES', '', None, ''),\n",
              " ('circulating_supply', 'float', 'YES', '', None, ''),\n",
              " ('total_supply', 'float', 'YES', '', None, ''),\n",
              " ('max_supply', 'float', 'YES', '', None, ''),\n",
              " ('price', 'float', 'YES', '', None, ''),\n",
              " ('volume_24h', 'float', 'YES', '', None, ''),\n",
              " ('percent_change_1h', 'float', 'YES', '', None, ''),\n",
              " ('percent_change_7d', 'float', 'YES', '', None, ''))"
            ]
          },
          "metadata": {},
          "execution_count": 98
        }
      ]
    },
    {
      "cell_type": "code",
      "source": [
        "# Insert data from df\n",
        "\n",
        "for index, row in df.iterrows():\n",
        "    print(f'\\nindex = {index} / {len(df)}')\n",
        "\n",
        "    query = '''INSERT INTO crypto_table\n",
        "\n",
        "               (id, name, symbol, last_updated, circulating_supply, total_supply, \n",
        "                max_supply, price, volume_24h, percent_change_1h, percent_change_7d) \n",
        "\n",
        "               values(%s, %s, %s, %s, %s, %s, %s, %s, %s, %s, %s)'''\n",
        "\n",
        "    id = int(row['id']) if row['id'] is not None else None\n",
        "    name = str(row['name']) if row['name'] is not None else None \n",
        "    symbol = str(row['symbol']) if row['symbol'] is not None else None\n",
        "    last_updated = row['last_updated'][0:10]\n",
        "    last_updated = datetime.datetime.strptime(last_updated, '%Y-%m-%d') if row['last_updated'] is not None else None\n",
        "    circulating_supply = float(row['circulating_supply']) if row['circulating_supply'] is not None else None \n",
        "    total_supply = float(row['total_supply']) if row['total_supply'] is not None else None\n",
        "    max_supply = float(row['max_supply']) if row['max_supply'] is not None else None \n",
        "    price = float(row['price']) if row['price'] is not None else None \n",
        "    volume_24h = float(row['volume_24h']) if row['volume_24h'] is not None else None\n",
        "    percent_change_1h = float(row['percent_change_1h']) if row['percent_change_1h'] is not None else None\n",
        "    percent_change_7d = float(row['percent_change_7d']) if row['percent_change_7d'] is not None else None\n",
        "  \n",
        "    values = id, name, symbol, last_updated, circulating_supply, total_supply, \\\n",
        "             max_supply, price, volume_24h, percent_change_1h, percent_change_7d \n",
        "\n",
        "    cursor.execute(query, values)\n",
        "\n",
        "connection.commit()"
      ],
      "metadata": {
        "id": "Wmtl36xgV7pM"
      },
      "execution_count": null,
      "outputs": []
    },
    {
      "cell_type": "code",
      "source": [
        "# Connect to data base\n",
        "\n",
        "query = '''use crypto_data_base'''\n",
        "cursor.execute(query)\n",
        "\n",
        "# Select all data from AWS RDS\n",
        "\n",
        "query = '''select * from crypto_table'''\n",
        "cursor.execute(query)\n",
        "results = cursor.fetchall()\n",
        "  \n",
        "# Printing all records or rows from the table.\n",
        "# It returns a result set. \n",
        "\n",
        "for all in results[0:10]:\n",
        "  print(all)\n"
      ],
      "metadata": {
        "colab": {
          "base_uri": "https://localhost:8080/"
        },
        "id": "Sm_PEHwSRi47",
        "outputId": "aef57b7d-fe65-4f5c-d13d-29e7e7673fd7"
      },
      "execution_count": 15,
      "outputs": [
        {
          "output_type": "stream",
          "name": "stdout",
          "text": [
            "(1, 'Bitcoin', 'BTC', datetime.date(2023, 2, 13), 19289800.0, 19289800.0, 21000000.0, 21671.9, 24115500000.0, 0.887486, -5.78859)\n",
            "(1027, 'Ethereum', 'ETH', datetime.date(2023, 2, 13), 122374000.0, 122374000.0, None, 1491.53, 9678930000.0, 1.32602, -9.31385)\n",
            "(825, 'Tether', 'USDT', datetime.date(2023, 2, 13), 68411600000.0, 73141800000.0, None, 1.00103, 41183200000.0, -0.00742384, 0.0909754)\n",
            "(1839, 'BNB', 'BNB', datetime.date(2023, 2, 13), 157899000.0, 159980000.0, 200000000.0, 288.951, 1328620000.0, 1.56833, -12.04)\n",
            "(3408, 'USD Coin', 'USDC', datetime.date(2023, 2, 13), 40873500000.0, 40873500000.0, None, 1.00011, 4815200000.0, 0.018931, 0.0059342)\n",
            "(52, 'XRP', 'XRP', datetime.date(2023, 2, 13), 50799100000.0, 99989100000.0, 100000000000.0, 0.370072, 1124910000.0, 1.42508, -8.09182)\n",
            "(4687, 'Binance USD', 'BUSD', datetime.date(2023, 2, 13), 15873300000.0, 15873300000.0, None, 0.999536, 13189900000.0, -0.022316, -0.0672791)\n",
            "(2010, 'Cardano', 'ADA', datetime.date(2023, 2, 13), 34631000000.0, 35467400000.0, 45000000000.0, 0.353057, 379996000.0, 1.70742, -10.078)\n",
            "(74, 'Dogecoin', 'DOGE', datetime.date(2023, 2, 13), 132671000000.0, 132671000000.0, None, 0.0814071, 780770000.0, 1.66333, -11.6769)\n",
            "(3890, 'Polygon', 'MATIC', datetime.date(2023, 2, 13), 8734320000.0, 10000000000.0, 10000000000.0, 1.1676, 780672000.0, 1.93962, -5.18813)\n"
          ]
        }
      ]
    }
  ]
}